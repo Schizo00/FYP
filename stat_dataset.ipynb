{
 "cells": [
  {
   "cell_type": "code",
   "execution_count": 1,
   "metadata": {},
   "outputs": [],
   "source": [
    "from dataset_tf import VoxDataset\n",
    "#import torch\n",
    "#from torch.utils.data import Dataset, DataLoader\n",
    "import numpy as np\n",
    "from tqdm import tqdm as tqdm\n",
    "from joblib import Parallel, delayed"
   ]
  },
  {
   "cell_type": "code",
   "execution_count": 2,
   "metadata": {},
   "outputs": [],
   "source": [
    "dataset = VoxDataset()"
   ]
  },
  {
   "cell_type": "code",
   "execution_count": null,
   "metadata": {},
   "outputs": [
    {
     "name": "stderr",
     "output_type": "stream",
     "text": [
      "2024-03-16 21:36:36.398729: I metal_plugin/src/device/metal_device.cc:1154] Metal device set to: Apple M1 Pro\n",
      "2024-03-16 21:36:36.398751: I metal_plugin/src/device/metal_device.cc:296] systemMemory: 16.00 GB\n",
      "2024-03-16 21:36:36.398755: I metal_plugin/src/device/metal_device.cc:313] maxCacheSize: 5.33 GB\n",
      "2024-03-16 21:36:36.398780: I tensorflow/core/common_runtime/pluggable_device/pluggable_device_factory.cc:306] Could not identify NUMA node of platform GPU ID 0, defaulting to 0. Your kernel may not have been built with NUMA support.\n",
      "2024-03-16 21:36:36.398797: I tensorflow/core/common_runtime/pluggable_device/pluggable_device_factory.cc:272] Created TensorFlow device (/job:localhost/replica:0/task:0/device:GPU:0 with 0 MB memory) -> physical PluggableDevice (device: 0, name: METAL, pci bus id: <undefined>)\n"
     ]
    },
    {
     "data": {
      "text/plain": [
       "TensorShape([15069])"
      ]
     },
     "execution_count": 3,
     "metadata": {},
     "output_type": "execute_result"
    }
   ],
   "source": [
    "dataset[0][1].shape"
   ]
  },
  {
   "cell_type": "code",
   "execution_count": null,
   "metadata": {},
   "outputs": [
    {
     "data": {
      "text/plain": [
       "270.77847"
      ]
     },
     "execution_count": 4,
     "metadata": {},
     "output_type": "execute_result"
    }
   ],
   "source": [
    "np.max(dataset[0][1])"
   ]
  },
  {
   "cell_type": "code",
   "execution_count": null,
   "metadata": {},
   "outputs": [
    {
     "name": "stderr",
     "output_type": "stream",
     "text": [
      "100%|██████████| 107640/107640 [01:58<00:00, 908.41it/s]\n"
     ]
    }
   ],
   "source": [
    "max = 0\n",
    "\n",
    "for i in tqdm(dataset):\n",
    "    curr_max = np.max(i[1])\n",
    "    if curr_max > max:\n",
    "        max = curr_max"
   ]
  },
  {
   "cell_type": "code",
   "execution_count": null,
   "metadata": {},
   "outputs": [
    {
     "data": {
      "text/plain": [
       "279.79984"
      ]
     },
     "execution_count": 11,
     "metadata": {},
     "output_type": "execute_result"
    }
   ],
   "source": [
    "max"
   ]
  },
  {
   "cell_type": "code",
   "execution_count": null,
   "metadata": {},
   "outputs": [
    {
     "name": "stderr",
     "output_type": "stream",
     "text": [
      "100%|██████████| 107640/107640 [02:20<00:00, 763.49it/s]\n"
     ]
    }
   ],
   "source": [
    "max = 0\n",
    "\n",
    "\n",
    "for i in tqdm(dataset):\n",
    "    curr_max = np.max(i[0])\n",
    "    if curr_max > max:\n",
    "        max = curr_max"
   ]
  },
  {
   "cell_type": "code",
   "execution_count": null,
   "metadata": {},
   "outputs": [
    {
     "data": {
      "text/plain": [
       "226.92715"
      ]
     },
     "execution_count": 13,
     "metadata": {},
     "output_type": "execute_result"
    }
   ],
   "source": [
    "max"
   ]
  },
  {
   "cell_type": "code",
   "execution_count": null,
   "metadata": {},
   "outputs": [
    {
     "name": "stdout",
     "output_type": "stream",
     "text": [
      "107639/107640 ------ MAE: 0.0034709782339632515\r"
     ]
    }
   ],
   "source": [
    "baseline = dataset[0][1]\n",
    "dist = []\n",
    "for index, i in enumerate(dataset):\n",
    "    mae = np.mean(np.abs(i[1] - baseline))\n",
    "    dist.append(mae)\n",
    "    print(f\"{index}/{len(dataset)} ------ MAE: {mae}\", end = \"\\r\")"
   ]
  },
  {
   "cell_type": "code",
   "execution_count": null,
   "metadata": {},
   "outputs": [
    {
     "data": {
      "text/plain": [
       "0.0061566182"
      ]
     },
     "execution_count": 7,
     "metadata": {},
     "output_type": "execute_result"
    }
   ],
   "source": [
    "np.mean(dist)"
   ]
  },
  {
   "cell_type": "code",
   "execution_count": null,
   "metadata": {},
   "outputs": [
    {
     "name": "stdout",
     "output_type": "stream",
     "text": [
      "107640\n"
     ]
    }
   ],
   "source": [
    "ids = dataset.get_ids()"
   ]
  },
  {
   "cell_type": "code",
   "execution_count": null,
   "metadata": {},
   "outputs": [],
   "source": [
    "train_indices = ids[:int(len(ids) * 0.8)]\n",
    "test_indices = ids[int(len(ids) * 0.8):]"
   ]
  },
  {
   "cell_type": "code",
   "execution_count": null,
   "metadata": {},
   "outputs": [],
   "source": [
    "train = VoxDataset(ids=train_indices)\n",
    "test = VoxDataset(ids=test_indices)"
   ]
  },
  {
   "cell_type": "code",
   "execution_count": null,
   "metadata": {},
   "outputs": [
    {
     "name": "stderr",
     "output_type": "stream",
     "text": [
      "100%|██████████| 86100/86100 [01:21<00:00, 1057.56it/s]\n"
     ]
    }
   ],
   "source": [
    "train_dist = []\n",
    "\n",
    "for i in tqdm(train):\n",
    "    train_dist.append(i[0])"
   ]
  },
  {
   "cell_type": "code",
   "execution_count": null,
   "metadata": {},
   "outputs": [
    {
     "name": "stderr",
     "output_type": "stream",
     "text": [
      "100%|██████████| 21540/21540 [00:47<00:00, 451.10it/s]\n"
     ]
    }
   ],
   "source": [
    "test_dist = []\n",
    "\n",
    "for i in tqdm(test):\n",
    "    test_dist.append(i[1])"
   ]
  },
  {
   "cell_type": "code",
   "execution_count": null,
   "metadata": {},
   "outputs": [
    {
     "name": "stdout",
     "output_type": "stream",
     "text": [
      "71564/86100 ------ MAE: 0.001585787162184715317\r"
     ]
    },
    {
     "ename": "KeyboardInterrupt",
     "evalue": "",
     "output_type": "error",
     "traceback": [
      "\u001b[0;31m---------------------------------------------------------------------------\u001b[0m",
      "\u001b[0;31mKeyboardInterrupt\u001b[0m                         Traceback (most recent call last)",
      "Cell \u001b[0;32mIn[38], line 5\u001b[0m\n\u001b[1;32m      2\u001b[0m baseline \u001b[38;5;241m=\u001b[39m train_dist[\u001b[38;5;241m0\u001b[39m]\n\u001b[1;32m      4\u001b[0m \u001b[38;5;28;01mfor\u001b[39;00m index, i \u001b[38;5;129;01min\u001b[39;00m \u001b[38;5;28menumerate\u001b[39m(train_dist):\n\u001b[0;32m----> 5\u001b[0m     mae \u001b[38;5;241m=\u001b[39m \u001b[43mnp\u001b[49m\u001b[38;5;241;43m.\u001b[39;49m\u001b[43mmean\u001b[49m\u001b[43m(\u001b[49m\u001b[43mi\u001b[49m\u001b[38;5;241;43m-\u001b[39;49m\u001b[43mbaseline\u001b[49m\u001b[43m)\u001b[49m\n\u001b[1;32m      6\u001b[0m     \u001b[38;5;28mprint\u001b[39m(\u001b[38;5;124mf\u001b[39m\u001b[38;5;124m\"\u001b[39m\u001b[38;5;132;01m{\u001b[39;00mindex\u001b[38;5;132;01m}\u001b[39;00m\u001b[38;5;124m/\u001b[39m\u001b[38;5;132;01m{\u001b[39;00m\u001b[38;5;28mlen\u001b[39m(train_dist)\u001b[38;5;132;01m}\u001b[39;00m\u001b[38;5;124m ------ MAE: \u001b[39m\u001b[38;5;132;01m{\u001b[39;00mmae\u001b[38;5;132;01m}\u001b[39;00m\u001b[38;5;124m\"\u001b[39m, end \u001b[38;5;241m=\u001b[39m \u001b[38;5;124m\"\u001b[39m\u001b[38;5;130;01m\\r\u001b[39;00m\u001b[38;5;124m\"\u001b[39m)\n",
      "\u001b[0;31mKeyboardInterrupt\u001b[0m: "
     ]
    }
   ],
   "source": [
    "diff = []\n",
    "baseline = train_dist[0]\n",
    "\n",
    "for index, i in enumerate(train_dist):\n",
    "    mae = np.mean(i-baseline)\n",
    "    print(f\"{index}/{len(train_dist)} ------ MAE: {mae}\", end = \"\\r\")"
   ]
  },
  {
   "cell_type": "code",
   "execution_count": null,
   "metadata": {},
   "outputs": [
    {
     "name": "stderr",
     "output_type": "stream",
     "text": [
      "  0%|          | 0/107640 [00:00<?, ?it/s]"
     ]
    },
    {
     "name": "stderr",
     "output_type": "stream",
     "text": [
      "2024-03-20 23:49:28.889566: I metal_plugin/src/device/metal_device.cc:1154] Metal device set to: Apple M1 Pro\n",
      "2024-03-20 23:49:28.889595: I metal_plugin/src/device/metal_device.cc:296] systemMemory: 16.00 GB\n",
      "2024-03-20 23:49:28.889604: I metal_plugin/src/device/metal_device.cc:313] maxCacheSize: 5.33 GB\n",
      "2024-03-20 23:49:28.889641: I tensorflow/core/common_runtime/pluggable_device/pluggable_device_factory.cc:306] Could not identify NUMA node of platform GPU ID 0, defaulting to 0. Your kernel may not have been built with NUMA support.\n",
      "2024-03-20 23:49:28.889660: I tensorflow/core/common_runtime/pluggable_device/pluggable_device_factory.cc:272] Created TensorFlow device (/job:localhost/replica:0/task:0/device:GPU:0 with 0 MB memory) -> physical PluggableDevice (device: 0, name: METAL, pci bus id: <undefined>)\n",
      "100%|██████████| 107640/107640 [01:52<00:00, 955.53it/s] \n"
     ]
    }
   ],
   "source": [
    "y_pred_1 = [i[1] for i in tqdm(dataset)]"
   ]
  },
  {
   "cell_type": "code",
   "execution_count": null,
   "metadata": {},
   "outputs": [
    {
     "data": {
      "text/plain": [
       "<tf.Tensor: shape=(15069,), dtype=float32, numpy=\n",
       "array([0.6167108 , 0.48118067, 0.40816686, ..., 0.4403067 , 0.53916496,\n",
       "       0.51728684], dtype=float32)>"
      ]
     },
     "execution_count": 5,
     "metadata": {},
     "output_type": "execute_result"
    }
   ],
   "source": [
    "y_pred_1[0]"
   ]
  },
  {
   "cell_type": "code",
   "execution_count": null,
   "metadata": {},
   "outputs": [],
   "source": [
    "y_pred = []\n",
    "\n",
    "for index, i in enumerate(y_pred_1):\n",
    "    if index % 20 == 0:\n",
    "        y_pred.append(i.numpy().reshape(5023, 3))"
   ]
  },
  {
   "cell_type": "code",
   "execution_count": null,
   "metadata": {},
   "outputs": [
    {
     "data": {
      "text/plain": [
       "5382"
      ]
     },
     "execution_count": 21,
     "metadata": {},
     "output_type": "execute_result"
    }
   ],
   "source": [
    "len(y_pred)"
   ]
  },
  {
   "cell_type": "code",
   "execution_count": null,
   "metadata": {},
   "outputs": [
    {
     "data": {
      "text/plain": [
       "array([[0.6167108 , 0.48118067, 0.40816686],\n",
       "       [0.6230832 , 0.47950226, 0.41069612],\n",
       "       [0.62386197, 0.48211312, 0.4113392 ],\n",
       "       ...,\n",
       "       [0.43239596, 0.53759164, 0.520634  ],\n",
       "       [0.43618873, 0.53834605, 0.51856166],\n",
       "       [0.4403067 , 0.53916496, 0.51728684]], dtype=float32)"
      ]
     },
     "execution_count": 22,
     "metadata": {},
     "output_type": "execute_result"
    }
   ],
   "source": [
    "y_pred[0]"
   ]
  },
  {
   "cell_type": "code",
   "execution_count": null,
   "metadata": {},
   "outputs": [],
   "source": [
    "import open3d as o3d\n",
    "import numpy as np"
   ]
  },
  {
   "cell_type": "code",
   "execution_count": null,
   "metadata": {},
   "outputs": [
    {
     "name": "stderr",
     "output_type": "stream",
     "text": [
      "100%|██████████| 5382/5382 [00:18<00:00, 296.82it/s]\n"
     ]
    }
   ],
   "source": [
    "for index, i in enumerate(tqdm(y_pred)):\n",
    "    pcd = o3d.geometry.PointCloud()\n",
    "    pcd.points = o3d.utility.Vector3dVector(i)\n",
    "    # o3d.visualization.draw_geometries([pcd])\n",
    "    o3d.io.write_point_cloud(f\"./Train/data_{index}.ply\", pcd)"
   ]
  },
  {
   "cell_type": "code",
   "execution_count": 4,
   "metadata": {},
   "outputs": [
    {
     "name": "stdout",
     "output_type": "stream",
     "text": [
      "107640\n"
     ]
    },
    {
     "data": {
      "text/plain": [
       "5382"
      ]
     },
     "execution_count": 4,
     "metadata": {},
     "output_type": "execute_result"
    }
   ],
   "source": [
    "len(dataset.get_ids())"
   ]
  },
  {
   "cell_type": "code",
   "execution_count": 14,
   "metadata": {},
   "outputs": [
    {
     "name": "stderr",
     "output_type": "stream",
     "text": [
      "100%|██████████| 107640/107640 [03:57<00:00, 454.00it/s]\n"
     ]
    }
   ],
   "source": [
    "dist = []\n",
    "for index, i in enumerate(tqdm(dataset)):\n",
    "    dist.append(i[0].numpy())"
   ]
  },
  {
   "cell_type": "code",
   "execution_count": 15,
   "metadata": {},
   "outputs": [
    {
     "name": "stderr",
     "output_type": "stream",
     "text": [
      "100%|██████████| 107640/107640 [00:03<00:00, 32582.96it/s]"
     ]
    },
    {
     "name": "stdout",
     "output_type": "stream",
     "text": [
      "Duplicates found in the list:\n",
      "59\n"
     ]
    },
    {
     "name": "stderr",
     "output_type": "stream",
     "text": [
      "\n"
     ]
    }
   ],
   "source": [
    "seen_arrays = set()\n",
    "\n",
    "# List to store duplicate arrays\n",
    "duplicate_arrays = []\n",
    "\n",
    "# Iterate through the list of arrays\n",
    "for arr in tqdm(dist):\n",
    "    # Convert the array to a tuple to make it hashable (and add to set)\n",
    "    arr_tuple = tuple(arr)\n",
    "    \n",
    "    # Check if the array is already in the set (indicating a duplicate)\n",
    "    if arr_tuple in seen_arrays:\n",
    "        duplicate_arrays.append(arr)\n",
    "    else:\n",
    "        seen_arrays.add(arr_tuple)\n",
    "\n",
    "# Check if duplicates were found\n",
    "if duplicate_arrays:\n",
    "    print(\"Duplicates found in the list:\")\n",
    "    print(len(duplicate_arrays))\n",
    "    # for arr in duplicate_arrays:\n",
    "    #     print(arr)\n",
    "else:\n",
    "    print(\"No duplicates found in the list.\")"
   ]
  },
  {
   "cell_type": "code",
   "execution_count": 7,
   "metadata": {},
   "outputs": [
    {
     "data": {
      "text/plain": [
       "102258"
      ]
     },
     "execution_count": 7,
     "metadata": {},
     "output_type": "execute_result"
    }
   ],
   "source": [
    "len(duplicate_arrays)"
   ]
  },
  {
   "cell_type": "code",
   "execution_count": 16,
   "metadata": {},
   "outputs": [
    {
     "name": "stdout",
     "output_type": "stream",
     "text": [
      "-3.8883636e-07\n",
      "-1.6849575e-06\n",
      "-1.166509e-06\n",
      "-1.036897e-06\n",
      "1.8145696e-06\n",
      "-2.073794e-06\n",
      "-9.072848e-07\n",
      "5.184485e-07\n",
      "0.0\n",
      "-7.776727e-07\n",
      "-1.9441818e-06\n",
      "-2.203406e-06\n",
      "-1.2313151e-06\n",
      "1.6849575e-06\n",
      "-1.2961212e-07\n",
      "7.776727e-07\n",
      "-8.4247876e-07\n",
      "-5.832545e-07\n",
      "6.480606e-08\n",
      "-4.536424e-07\n",
      "2.203406e-06\n",
      "4.536424e-07\n",
      "3.8883636e-07\n",
      "9.072848e-07\n",
      "1.166509e-06\n",
      "-5.184485e-07\n",
      "1.7497636e-06\n",
      "1.2961211e-06\n",
      "-1.3609273e-06\n",
      "-1.4257333e-06\n",
      "1.9441818e-06\n",
      "1.6201515e-06\n",
      "2.268212e-06\n",
      "-1.8145696e-06\n",
      "1.5553454e-06\n",
      "1.4257333e-06\n",
      "2.5274362e-06\n",
      "-1.101703e-06\n",
      "-2.4626302e-06\n",
      "-6.480606e-08\n",
      "-1.9441818e-07\n",
      "2.1386e-06\n",
      "5.832545e-07\n",
      "-2.333018e-06\n",
      "-2.5274362e-06\n",
      "-1.6201515e-06\n",
      "2.8514667e-06\n",
      "2.5922424e-07\n",
      "6.4806056e-07\n",
      "1.2313151e-06\n",
      "1.2961212e-07\n",
      "2.073794e-06\n",
      "8.4247876e-07\n",
      "1.9441818e-07\n",
      "1.036897e-06\n",
      "2.333018e-06\n",
      "-1.2961211e-06\n",
      "3.1106908e-06\n",
      "-2.5922423e-06\n",
      "1.8793758e-06\n",
      "-6.4806056e-07\n",
      "-1.4905394e-06\n",
      "2.4626302e-06\n",
      "-2.3978241e-06\n",
      "-7.1286667e-07\n",
      "1.3609273e-06\n",
      "2.7218546e-06\n",
      "-1.5553454e-06\n",
      "-9.720909e-07\n",
      "2.3978241e-06\n",
      "1.4905394e-06\n",
      "2.0089878e-06\n",
      "7.1286667e-07\n",
      "-2.268212e-06\n",
      "3.2403028e-07\n",
      "2.7866606e-06\n",
      "-1.8793758e-06\n",
      "-2.1386e-06\n",
      "-2.5922424e-07\n",
      "2.9810788e-06\n",
      "-3.2403028e-07\n",
      "-2.0089878e-06\n",
      "-2.7218546e-06\n",
      "-2.6570483e-06\n",
      "1.101703e-06\n",
      "2.5922423e-06\n",
      "9.720909e-07\n",
      "-1.7497636e-06\n",
      "-2.9162727e-06\n",
      "-2.8514667e-06\n",
      "2.6570483e-06\n",
      "3.305109e-06\n",
      "2.9162727e-06\n",
      "-2.7866606e-06\n",
      "-2.9810788e-06\n"
     ]
    }
   ],
   "source": [
    "for i in dist:\n",
    "    print(i)\n"
   ]
  },
  {
   "cell_type": "code",
   "execution_count": null,
   "metadata": {},
   "outputs": [],
   "source": []
  }
 ],
 "metadata": {
  "kernelspec": {
   "display_name": "head",
   "language": "python",
   "name": "python3"
  },
  "language_info": {
   "codemirror_mode": {
    "name": "ipython",
    "version": 3
   },
   "file_extension": ".py",
   "mimetype": "text/x-python",
   "name": "python",
   "nbconvert_exporter": "python",
   "pygments_lexer": "ipython3",
   "version": "3.10.13"
  }
 },
 "nbformat": 4,
 "nbformat_minor": 2
}
